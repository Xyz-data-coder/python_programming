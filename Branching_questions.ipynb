{
  "nbformat": 4,
  "nbformat_minor": 0,
  "metadata": {
    "colab": {
      "provenance": [],
      "include_colab_link": true
    },
    "kernelspec": {
      "name": "python3",
      "display_name": "Python 3"
    },
    "language_info": {
      "name": "python"
    }
  },
  "cells": [
    {
      "cell_type": "markdown",
      "metadata": {
        "id": "view-in-github",
        "colab_type": "text"
      },
      "source": [
        "<a href=\"https://colab.research.google.com/github/Xyz-data-coder/python_programming/blob/main/Branching_questions.ipynb\" target=\"_parent\"><img src=\"https://colab.research.google.com/assets/colab-badge.svg\" alt=\"Open In Colab\"/></a>"
      ]
    },
    {
      "cell_type": "markdown",
      "source": [
        "### `Problem 1`: Write a program that will give you in hand monthly salary after deduction on CTC - HRA(10%), DA(5%), PF(3%) and taxes deduction as below:\n",
        "\n",
        "> Salary(Lakhs) : Tax(%)\n",
        "\n",
        "*   Below 5 : 0%\n",
        "*   5-10 : 10%\n",
        "*   10-20 : 20%\n",
        "*   aboove 20 : 30%"
      ],
      "metadata": {
        "id": "w6RlOAXV2PWh"
      }
    },
    {
      "cell_type": "code",
      "source": [
        "\n",
        "year_package=float(input('Enter your yearly package in lakhs : '))\n",
        "hra=round(0.1*year_package,3)\n",
        "da=round((5/100)*year_package,3)\n",
        "pf=round((3/100)*year_package,3)\n",
        "print('your HRA deduction is: {} lakhs '.format(hra))\n",
        "print('your DA deduction is: {} lakhs '.format(da))\n",
        "print('your PF deduction is: {} lakhs '.format(pf))\n",
        "total=hra+da+pf\n",
        "tax=None\n",
        "if year_package<5:\n",
        "    tax=0\n",
        "    print('other tax is: ',tax,' lakhs')\n",
        "elif year_package>=5 and year_package<10:\n",
        "    tax=round(0.1*year_package,3)\n",
        "    print('other tax is: ',tax,' lakhs')\n",
        "elif year_package>=10 and year_package<20:\n",
        "    tax=round(0.2*year_package,3)\n",
        "    print('other tax is: ',tax,' lakhs')\n",
        "elif year_package>=20 :\n",
        "    tax=round(0.3*year_package,3)\n",
        "    print('other tax is: ',tax,' lakhs')\n",
        "\n",
        "print('Your in hand salary is: ',year_package-(total+tax),' lakhs')"
      ],
      "metadata": {
        "id": "FYEqln-I2kxV"
      },
      "execution_count": null,
      "outputs": []
    },
    {
      "cell_type": "markdown",
      "source": [
        "### `Problem 2`: Write a program that take a user input of three angles and will find out whether it can form a triangle or not."
      ],
      "metadata": {
        "id": "tYzCGqwl2hfN"
      }
    },
    {
      "cell_type": "code",
      "source": [
        "\n",
        "a,b,c=input('Enter values of first ,second and third angles in degree: ').split()\n",
        "a=float(a)\n",
        "b=float(b)\n",
        "c=float(c)\n",
        "sum=a+b+c\n",
        "if sum==180:\n",
        "    print('given angles can form triangle')\n",
        "else:\n",
        "    print('given angles can not form triangle')"
      ],
      "metadata": {
        "id": "jSX8M4BPuF86"
      },
      "execution_count": null,
      "outputs": []
    },
    {
      "cell_type": "markdown",
      "source": [
        "### `Problem 3`: Write a program that will take user input of cost price and selling price and determines whether its a loss or a profit."
      ],
      "metadata": {
        "id": "5vEpPh8C2pE4"
      }
    },
    {
      "cell_type": "code",
      "source": [
        "cost_price=float(input('enter cost price: '))\n",
        "selling_price=float(input('enter selling price: '))\n",
        "loss_profit=round(selling_price-cost_price,3)\n",
        "if loss_profit>0:\n",
        " print(\"it's a profit of: RS \",loss_profit)\n",
        "elif loss_profit==0:\n",
        " print(\"there is no profit or loss\")\n",
        "else:\n",
        " print(\"it's a loss of: RS \",abs(loss_profit))"
      ],
      "metadata": {
        "id": "8YAQNIdZuE9E"
      },
      "execution_count": null,
      "outputs": []
    },
    {
      "cell_type": "markdown",
      "source": [
        "### `Problem 4`: Write a menu-driven program - \n",
        "1. cm to ft \n",
        "2. km to miles \n",
        "3. USD to INR \n",
        "4. exit"
      ],
      "metadata": {
        "id": "J_FG_cJW2ugT"
      }
    },
    {
      "cell_type": "code",
      "source": [
        "num=int(input(\"\"\" enter 1: cm to feet\n",
        "enter 2: km to miles\n",
        "enter 3: USD to INR\n",
        "enter 4: to exit\\n   \"\"\"))\n",
        "def math_cal(a):\n",
        " value=None\n",
        " if a==1:\n",
        "  value=float(input('enter cm value: '))\n",
        "  return \"value in feet is: {}\".format(round(value*0.0328,3))\n",
        " elif a==2:\n",
        "  value=float(input('enter km value: '))\n",
        "  return \"value in miles is: {}\".format(round(value*0.621,3))\n",
        " elif a==3:\n",
        "  value=float(input('enter USD value: '))\n",
        "  return \"value in INR is: {}\".format(round(value*82.19,3))\n",
        " elif a==4:\n",
        "  return exit \n",
        " else:\n",
        "  return 'enter valid value'\n",
        "\n",
        "print(math_cal(num))"
      ],
      "metadata": {
        "id": "yBHhaCGQ2zpD"
      },
      "execution_count": null,
      "outputs": []
    },
    {
      "cell_type": "markdown",
      "source": [
        "### `Problem 5` - Exercise 12: Display Fibonacci series up to 10 terms.\n",
        "\n",
        "*Note: The Fibonacci Sequence is a series of numbers. The next number is found by adding up the two numbers before it. The first two numbers are 0 and 1. For example, 0, 1, 1, 2, 3, 5, 8, 13, 21. The next number in this series above is 13+21 = 34*"
      ],
      "metadata": {
        "id": "LJJ30_Yw27ZU"
      }
    },
    {
      "cell_type": "code",
      "source": [
        "L=list()\n",
        "for i in range(0,11):\n",
        " if i==0:\n",
        "  L.append(i)\n",
        " elif i==1:\n",
        "  L.append(i)\n",
        " else:\n",
        "  L.append(L[(i-1)]+L[(i-2)])\n",
        "print(L)"
      ],
      "metadata": {
        "id": "ae_1rpe52-5R"
      },
      "execution_count": null,
      "outputs": []
    },
    {
      "cell_type": "markdown",
      "source": [
        "### `Problem 6` - Find the factorial of a given number.\n",
        "\n",
        "Write a program to use the loop to find the factorial of a given number.\n",
        "\n",
        "The factorial (symbol: `!`) means to multiply all whole numbers from the chosen number down to 1.\n",
        "\n",
        "For example: calculate the factorial of 5\n",
        "\n",
        "```bash\n",
        "5! = 5 × 4 × 3 × 2 × 1 = 120\n",
        "```\n",
        "\n",
        "Output: \n",
        "\n",
        "```bash\n",
        "120\n",
        "```"
      ],
      "metadata": {
        "id": "pk_I_S4m3PT5"
      }
    },
    {
      "cell_type": "code",
      "source": [
        "num=int(input('enter the number: '))\n",
        "fact=1\n",
        "for i in range(2,num+1):\n",
        " fact=fact*i\n",
        "print('factorial of {} : {}'.format(num,fact))"
      ],
      "metadata": {
        "id": "lzXxHegx3Rkc"
      },
      "execution_count": null,
      "outputs": []
    },
    {
      "cell_type": "markdown",
      "source": [
        "### `Problem 7` - Reverse a given integer number.\n",
        "\n",
        "Example:\n",
        "\n",
        "`Input:`\n",
        "\n",
        "```bash\n",
        "76542\n",
        "```\n",
        "\n",
        "`Output:`\n",
        "\n",
        "```bash\n",
        "24567\n",
        "```"
      ],
      "metadata": {
        "id": "-17IOi-g3UpU"
      }
    },
    {
      "cell_type": "code",
      "source": [
        "num=int(input('enter number: '))\n",
        "rev=0\n",
        "while num>0:\n",
        " rev=rev*10+num%10\n",
        " num=int(num/10)\n",
        "print('reverse of number is: ',rev)"
      ],
      "metadata": {
        "id": "wJwLpKCr3aVA"
      },
      "execution_count": null,
      "outputs": []
    },
    {
      "cell_type": "markdown",
      "source": [
        "### `Problem 8`: Take a user input as integer N. Find out the sum from 1 to N. If any number if divisible by 5, then skip that number. And if the sum is greater than 300, don't need to calculate the sum further more. Print the final result. And don't use for loop to solve this problem.\n",
        "\n",
        "**Example 1:**\n",
        "\n",
        "`Input:`\n",
        "\n",
        "```bash\n",
        "30\n",
        "```\n",
        "\n",
        "`Output:`\n",
        "\n",
        "```bash\n",
        "276\n",
        "```"
      ],
      "metadata": {
        "id": "-t8PJQaY3sHf"
      }
    },
    {
      "cell_type": "code",
      "source": [
        "num =int(input('enter the number: '))\n",
        "base=0\n",
        "sum =0\n",
        "while base<num:\n",
        " base+=1\n",
        " if base%5==0:\n",
        "  continue\n",
        " if sum+base>300:\n",
        "  break\n",
        " sum=sum+base \n",
        "print(sum)"
      ],
      "metadata": {
        "id": "GZB6mGMP3ujT"
      },
      "execution_count": null,
      "outputs": []
    },
    {
      "cell_type": "markdown",
      "source": [
        "### `Problem 9`: Write a program that keeps on accepting a number from the user until the user enters Zero. Display the sum and average of all the numbers."
      ],
      "metadata": {
        "id": "Q7ggImeA3xm4"
      }
    },
    {
      "cell_type": "code",
      "source": [
        "sum=0\n",
        "counter=0\n",
        "num=float(input('enter number:  '))\n",
        "while num!=0:\n",
        " sum=sum+num\n",
        " counter+=1\n",
        " num=float(input('enter number: '))\n",
        "print('sum of all numbers is: ',sum)\n",
        "print('average of all numbers is: ',sum/counter)"
      ],
      "metadata": {
        "id": "t_YDSZDe4Kdo"
      },
      "execution_count": null,
      "outputs": []
    },
    {
      "cell_type": "markdown",
      "source": [
        "###`Problem 9`: Write a program which will find all such numbers which are divisible by 7 but are not a multiple of 5, between 2000 and 3200 (both included). The numbers obtained should be printed in a comma-separated sequence on a single line."
      ],
      "metadata": {
        "id": "6EhvEMvm4R7s"
      }
    },
    {
      "cell_type": "code",
      "source": [
        "for i in range(2000,3201):\n",
        " if i%7==0 and i%5!=0:\n",
        "  print(i,end=',')"
      ],
      "metadata": {
        "id": "d6RgP1B34T6c"
      },
      "execution_count": null,
      "outputs": []
    },
    {
      "cell_type": "markdown",
      "source": [
        "###`Problem 10`: Write a program, which will find all such numbers between 1000 and 3000 (both included) such that each digit of the number is an even number. The numbers obtained should be printed in a space-separated sequence on a single line.\n",
        "\n"
      ],
      "metadata": {
        "id": "tYvmRR-G4Vp4"
      }
    },
    {
      "cell_type": "code",
      "source": [
        "for i in range(1000,3001):\n",
        " counter=1\n",
        " for j in str(i):\n",
        "  if int(j)%2!=0:\n",
        "   counter=0\n",
        "   break\n",
        " if counter:\n",
        "  print(i,end=' ')"
      ],
      "metadata": {
        "id": "k6Gs1kIf4k19"
      },
      "execution_count": null,
      "outputs": []
    },
    {
      "cell_type": "markdown",
      "source": [
        "###`Problem 11`: A robot moves in a plane starting from the original point (0,0). The robot can move toward UP, DOWN, LEFT and RIGHT with a given steps. \n",
        "The trace of robot movement is shown as the following:\n",
        "```\n",
        "UP 5\n",
        "DOWN 3\n",
        "LEFT 3\n",
        "RIGHT 2\n",
        "! 0\n",
        "```\n",
        "> The numbers after the direction are steps. \n",
        "\n",
        "> `! 0` means robot stop there.\n",
        "\n",
        "**Please write a program to compute the distance from current position after a sequence of movement and original point.** \n",
        "\n",
        "*If the distance is a float, then just print the nearest integer.*\n",
        "\n",
        "Example:\n",
        "\n",
        "`Input`:\n",
        "```\n",
        "UP 5\n",
        "DOWN 3\n",
        "LEFT 3\n",
        "RIGHT 2\n",
        "! 0\n",
        "```\n",
        "`Output`:\n",
        "```\n",
        "2\n",
        "```"
      ],
      "metadata": {
        "id": "GV18IINT4mf5"
      }
    },
    {
      "cell_type": "code",
      "source": [
        "\n",
        "try:\n",
        "    dir,value=input().split()\n",
        "    value=int(value)\n",
        "except:\n",
        "        print('error: expected two inputs')\n",
        "x,y=0,0\n",
        "while dir!='!':\n",
        "    if dir=='down':\n",
        "        y=y-value\n",
        "    elif dir=='up':\n",
        "        y=y+value\n",
        "    elif dir=='left':\n",
        "        x=x-value\n",
        "    elif dir=='right':\n",
        "        x=x+value\n",
        "    else:\n",
        "        print('enter valid direction')\n",
        "    try:\n",
        "        dir,value=input().split()\n",
        "        value=int(value)\n",
        "    except:\n",
        "        print('error: expected two inputs')\n",
        "print('distance from original point is: ',round((x**2+y**2)**0.5,0))"
      ],
      "metadata": {
        "id": "QiJpbNSWa8Gn"
      },
      "execution_count": null,
      "outputs": []
    },
    {
      "cell_type": "markdown",
      "source": [
        "###`Problem 12`:Write a program to print whether a given number is a prime number or not"
      ],
      "metadata": {
        "id": "3fsAIAhK5GYY"
      }
    },
    {
      "cell_type": "code",
      "source": [
        "\n",
        "num=int(input('enter number: '))\n",
        "counter=1\n",
        "\n",
        "for i in range(2,int(num**0.5)+1):\n",
        "    if num%i==0:\n",
        "        counter=0\n",
        "if num is 0 or num is 1:\n",
        "    print('number is not prime nor composite')\n",
        "elif counter:\n",
        "    print('it is a prime number')\n",
        "else:\n",
        "    print('it is not a prime number')"
      ],
      "metadata": {
        "id": "92T_bd9SoFCu"
      },
      "execution_count": null,
      "outputs": []
    },
    {
      "cell_type": "markdown",
      "source": [
        "###`Problem 13`:Print all the Armstrong numbers in a given range.\n",
        "Range will be provided by the user<br>\n",
        "Armstrong number is a number that is equal to the sum of cubes of its digits. For example 0, 1, 153, 370, 371 and 407 are the Armstrong numbers."
      ],
      "metadata": {
        "id": "asAbmbK-5NHv"
      }
    },
    {
      "cell_type": "code",
      "source": [
        "\n",
        "low,high=input('enter two numbers as a range: ').split()\n",
        "low=int(low)\n",
        "high=int(high)\n",
        "for i in range(low,high+1):\n",
        "    a=len(str(i))\n",
        "    sum=0\n",
        "    for j in str(i):\n",
        "        num=int(j)**a\n",
        "        sum=sum+num\n",
        "    if sum==i:\n",
        "        print(i,end=' ')"
      ],
      "metadata": {
        "id": "WGl3dqUhd4fa"
      },
      "execution_count": null,
      "outputs": []
    },
    {
      "cell_type": "markdown",
      "source": [
        "###`Problem 14`:Calculate the angle between the hour hand and minute hand.\n",
        "\n",
        "Note: There can be two angles between hands; we need to print a minimum of two. Also, we need to print the floor of the final result angle. For example, if the final angle is 10.61, we need to print 10.\n",
        "\n",
        "Input:<br>\n",
        "H = 9 , M = 0<br>\n",
        "Output:<br>\n",
        "90<br>\n",
        "Explanation:<br>\n",
        "The minimum angle between hour and minute\n",
        "hand when the time is 9 is 90 degress."
      ],
      "metadata": {
        "id": "ClCQZMqT7gK0"
      }
    },
    {
      "cell_type": "code",
      "source": [
        "\n",
        "hour, minute=input('enter hour and minute: ').split()\n",
        "hour=int(hour)\n",
        "minute=int(minute)\n",
        "hou_hand=60-hour*5\n",
        "total=hou_hand+minute\n",
        "if total>30:\n",
        "    total=60-total\n",
        "print('angle between hour and minute hand is: ',total*6,' degree')"
      ],
      "metadata": {
        "id": "2AhhfXS_a9pG"
      },
      "execution_count": null,
      "outputs": []
    },
    {
      "cell_type": "markdown",
      "source": [
        "###`Problem 15`:Given two rectangles, find if the given two rectangles overlap or not. A rectangle is denoted by providing the x and y coordinates of two points: the left top corner and the right bottom corner of the rectangle. Two rectangles sharing a side are considered overlapping. (L1 and R1 are the extreme points of the first rectangle and L2 and R2 are the extreme points of the second rectangle).\n",
        "\n",
        "Note: It may be assumed that the rectangles are parallel to the coordinate axis.\n",
        "\n",
        "<img src='https://www.geeksforgeeks.org/wp-content/uploads/rectanglesOverlap.png' width='300' height='200'>"
      ],
      "metadata": {
        "id": "GwacF9Co72Qc"
      }
    },
    {
      "cell_type": "code",
      "source": [
        "\n",
        "x1,y1,x2,y2=input('enter x1,y1,x2,y2 of first rectangle: ').split(',')\n",
        "_x1,_y1,_x2,_y2=input('enter x1,y1,x2,y2 of second rectagle: ').split(',')\n",
        "x1,y1,x2,y2=int(x1),int(y1),int(x2),int(y2)\n",
        "_x1,_y1,_x2,_y2=int(_x1),int(_y1),int(_x2),int(_y2)\n",
        "flag =1\n",
        "if x2<=_x1 or _y2>=y1:\n",
        "    flag =0\n",
        "elif _x2<=x1 or _y1<=y2:\n",
        "    flag=0\n",
        "if flag:\n",
        "    print('rectangles are overlapping')\n",
        "else:\n",
        "    print('rectangles are not overlapping')"
      ],
      "metadata": {
        "id": "xi757FGzDEu3"
      },
      "execution_count": null,
      "outputs": []
    }
  ]
}